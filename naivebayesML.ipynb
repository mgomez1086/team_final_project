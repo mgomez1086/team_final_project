{
 "cells": [
  {
   "cell_type": "code",
   "execution_count": 1,
   "metadata": {},
   "outputs": [],
   "source": [
    "import pandas as pd\n",
    "\n",
    "from sklearn.feature_extraction.text import CountVectorizer\n",
    "from sklearn.model_selection import train_test_split, GridSearchCV\n",
    "from sklearn.naive_bayes import MultinomialNB\n",
    "from sklearn import metrics\n"
   ]
  },
  {
   "cell_type": "code",
   "execution_count": 2,
   "metadata": {},
   "outputs": [],
   "source": [
    "%matplotlib inline\n",
    "import matplotlib.pyplot as plt\n",
    "\n",
    "import matplotlib\n",
    "matplotlib.style.use('ggplot')"
   ]
  },
  {
   "cell_type": "code",
   "execution_count": 3,
   "metadata": {},
   "outputs": [],
   "source": [
    "df_nba_draft = pd.read_csv(\"alldf.csv\")"
   ]
  },
  {
   "cell_type": "code",
   "execution_count": 4,
   "metadata": {},
   "outputs": [
    {
     "data": {
      "text/plain": [
       "(3260, 26)"
      ]
     },
     "execution_count": 4,
     "metadata": {},
     "output_type": "execute_result"
    }
   ],
   "source": [
    "df_nba_draft.shape"
   ]
  },
  {
   "cell_type": "code",
   "execution_count": 5,
   "metadata": {},
   "outputs": [
    {
     "data": {
      "text/plain": [
       "Index(['Unnamed: 0', 'School', 'GP', 'GS', 'MIN', 'FGM', 'FGA', 'FG%', '3PM',\n",
       "       '3PA', '3P%', 'FTM', 'FTA', 'FT%', 'ORB', 'DRB', 'TRB', 'AST', 'STL',\n",
       "       'BLK', 'PF', 'TOV', 'PTS', 'Link', 'DraftStatus', 'Season'],\n",
       "      dtype='object')"
      ]
     },
     "execution_count": 5,
     "metadata": {},
     "output_type": "execute_result"
    }
   ],
   "source": [
    "df_nba_draft.columns"
   ]
  },
  {
   "cell_type": "code",
   "execution_count": 6,
   "metadata": {},
   "outputs": [
    {
     "data": {
      "text/html": [
       "<div>\n",
       "<style scoped>\n",
       "    .dataframe tbody tr th:only-of-type {\n",
       "        vertical-align: middle;\n",
       "    }\n",
       "\n",
       "    .dataframe tbody tr th {\n",
       "        vertical-align: top;\n",
       "    }\n",
       "\n",
       "    .dataframe thead th {\n",
       "        text-align: right;\n",
       "    }\n",
       "</style>\n",
       "<table border=\"1\" class=\"dataframe\">\n",
       "  <thead>\n",
       "    <tr style=\"text-align: right;\">\n",
       "      <th></th>\n",
       "      <th>Unnamed: 0</th>\n",
       "      <th>School</th>\n",
       "      <th>GP</th>\n",
       "      <th>GS</th>\n",
       "      <th>MIN</th>\n",
       "      <th>FGM</th>\n",
       "      <th>FGA</th>\n",
       "      <th>FG%</th>\n",
       "      <th>3PM</th>\n",
       "      <th>3PA</th>\n",
       "      <th>...</th>\n",
       "      <th>TRB</th>\n",
       "      <th>AST</th>\n",
       "      <th>STL</th>\n",
       "      <th>BLK</th>\n",
       "      <th>PF</th>\n",
       "      <th>TOV</th>\n",
       "      <th>PTS</th>\n",
       "      <th>Link</th>\n",
       "      <th>DraftStatus</th>\n",
       "      <th>Season</th>\n",
       "    </tr>\n",
       "  </thead>\n",
       "  <tbody>\n",
       "    <tr>\n",
       "      <th>0</th>\n",
       "      <td>0</td>\n",
       "      <td>Washington</td>\n",
       "      <td>25.0</td>\n",
       "      <td>25.0</td>\n",
       "      <td>35.7</td>\n",
       "      <td>8.4</td>\n",
       "      <td>17.6</td>\n",
       "      <td>0.47600000000000003</td>\n",
       "      <td>2.1</td>\n",
       "      <td>5.0</td>\n",
       "      <td>...</td>\n",
       "      <td>5.7</td>\n",
       "      <td>5.9</td>\n",
       "      <td>1.6</td>\n",
       "      <td>1.2</td>\n",
       "      <td>2.5</td>\n",
       "      <td>3.2</td>\n",
       "      <td>23.2</td>\n",
       "      <td>https://www.sports-reference.com/cbb/players/m...</td>\n",
       "      <td>Drafted</td>\n",
       "      <td>2016-17</td>\n",
       "    </tr>\n",
       "    <tr>\n",
       "      <th>1</th>\n",
       "      <td>1</td>\n",
       "      <td>UCLA</td>\n",
       "      <td>36.0</td>\n",
       "      <td>36.0</td>\n",
       "      <td>35.1</td>\n",
       "      <td>5.3</td>\n",
       "      <td>9.5</td>\n",
       "      <td>0.551</td>\n",
       "      <td>2.2</td>\n",
       "      <td>5.4</td>\n",
       "      <td>...</td>\n",
       "      <td>6.0</td>\n",
       "      <td>7.6</td>\n",
       "      <td>1.8</td>\n",
       "      <td>0.8</td>\n",
       "      <td>1.8</td>\n",
       "      <td>2.5</td>\n",
       "      <td>14.6</td>\n",
       "      <td>https://www.sports-reference.com/cbb/players/l...</td>\n",
       "      <td>Drafted</td>\n",
       "      <td>2016-17</td>\n",
       "    </tr>\n",
       "    <tr>\n",
       "      <th>2</th>\n",
       "      <td>2</td>\n",
       "      <td>Duke</td>\n",
       "      <td>29.0</td>\n",
       "      <td>27.0</td>\n",
       "      <td>33.3</td>\n",
       "      <td>5.7</td>\n",
       "      <td>12.6</td>\n",
       "      <td>0.452</td>\n",
       "      <td>1.4</td>\n",
       "      <td>4.0</td>\n",
       "      <td>...</td>\n",
       "      <td>7.3</td>\n",
       "      <td>2.1</td>\n",
       "      <td>1.3</td>\n",
       "      <td>1.1</td>\n",
       "      <td>3.0</td>\n",
       "      <td>2.6</td>\n",
       "      <td>16.8</td>\n",
       "      <td>https://www.sports-reference.com/cbb/players/j...</td>\n",
       "      <td>Drafted</td>\n",
       "      <td>2016-17</td>\n",
       "    </tr>\n",
       "    <tr>\n",
       "      <th>3</th>\n",
       "      <td>3</td>\n",
       "      <td>Kansas</td>\n",
       "      <td>35.0</td>\n",
       "      <td>35.0</td>\n",
       "      <td>30.8</td>\n",
       "      <td>6.3</td>\n",
       "      <td>12.3</td>\n",
       "      <td>0.513</td>\n",
       "      <td>1.0</td>\n",
       "      <td>2.6</td>\n",
       "      <td>...</td>\n",
       "      <td>7.4</td>\n",
       "      <td>3.0</td>\n",
       "      <td>1.7</td>\n",
       "      <td>1.1</td>\n",
       "      <td>3.0</td>\n",
       "      <td>2.8</td>\n",
       "      <td>16.3</td>\n",
       "      <td>https://www.sports-reference.com/cbb/players/j...</td>\n",
       "      <td>Drafted</td>\n",
       "      <td>2016-17</td>\n",
       "    </tr>\n",
       "    <tr>\n",
       "      <th>4</th>\n",
       "      <td>4</td>\n",
       "      <td>Kentucky</td>\n",
       "      <td>36.0</td>\n",
       "      <td>34.0</td>\n",
       "      <td>29.6</td>\n",
       "      <td>5.9</td>\n",
       "      <td>12.4</td>\n",
       "      <td>0.479</td>\n",
       "      <td>0.5</td>\n",
       "      <td>1.9</td>\n",
       "      <td>...</td>\n",
       "      <td>4.0</td>\n",
       "      <td>4.6</td>\n",
       "      <td>1.5</td>\n",
       "      <td>0.2</td>\n",
       "      <td>2.5</td>\n",
       "      <td>2.4</td>\n",
       "      <td>16.7</td>\n",
       "      <td>https://www.sports-reference.com/cbb/players/d...</td>\n",
       "      <td>Drafted</td>\n",
       "      <td>2016-17</td>\n",
       "    </tr>\n",
       "  </tbody>\n",
       "</table>\n",
       "<p>5 rows × 26 columns</p>\n",
       "</div>"
      ],
      "text/plain": [
       "   Unnamed: 0      School    GP    GS   MIN  FGM   FGA                  FG%  \\\n",
       "0           0  Washington  25.0  25.0  35.7  8.4  17.6  0.47600000000000003   \n",
       "1           1        UCLA  36.0  36.0  35.1  5.3   9.5                0.551   \n",
       "2           2        Duke  29.0  27.0  33.3  5.7  12.6                0.452   \n",
       "3           3      Kansas  35.0  35.0  30.8  6.3  12.3                0.513   \n",
       "4           4    Kentucky  36.0  34.0  29.6  5.9  12.4                0.479   \n",
       "\n",
       "   3PM  3PA   ...     TRB  AST  STL  BLK   PF  TOV   PTS  \\\n",
       "0  2.1  5.0   ...     5.7  5.9  1.6  1.2  2.5  3.2  23.2   \n",
       "1  2.2  5.4   ...     6.0  7.6  1.8  0.8  1.8  2.5  14.6   \n",
       "2  1.4  4.0   ...     7.3  2.1  1.3  1.1  3.0  2.6  16.8   \n",
       "3  1.0  2.6   ...     7.4  3.0  1.7  1.1  3.0  2.8  16.3   \n",
       "4  0.5  1.9   ...     4.0  4.6  1.5  0.2  2.5  2.4  16.7   \n",
       "\n",
       "                                                Link DraftStatus   Season  \n",
       "0  https://www.sports-reference.com/cbb/players/m...     Drafted  2016-17  \n",
       "1  https://www.sports-reference.com/cbb/players/l...     Drafted  2016-17  \n",
       "2  https://www.sports-reference.com/cbb/players/j...     Drafted  2016-17  \n",
       "3  https://www.sports-reference.com/cbb/players/j...     Drafted  2016-17  \n",
       "4  https://www.sports-reference.com/cbb/players/d...     Drafted  2016-17  \n",
       "\n",
       "[5 rows x 26 columns]"
      ]
     },
     "execution_count": 6,
     "metadata": {},
     "output_type": "execute_result"
    }
   ],
   "source": [
    "df_nba_draft.head()"
   ]
  },
  {
   "cell_type": "code",
   "execution_count": 7,
   "metadata": {},
   "outputs": [
    {
     "data": {
      "text/plain": [
       "Undrafted    2517\n",
       "Drafted       743\n",
       "Name: DraftStatus, dtype: int64"
      ]
     },
     "execution_count": 7,
     "metadata": {},
     "output_type": "execute_result"
    }
   ],
   "source": [
    "df_nba_draft['DraftStatus'].value_counts()"
   ]
  },
  {
   "cell_type": "code",
   "execution_count": 8,
   "metadata": {},
   "outputs": [
    {
     "data": {
      "text/plain": [
       "Drafted       743\n",
       "Undrafted    2517\n",
       "Name: DraftStatus, dtype: int64"
      ]
     },
     "execution_count": 8,
     "metadata": {},
     "output_type": "execute_result"
    }
   ],
   "source": [
    "drafts = df_nba_draft['DraftStatus'].value_counts()\n",
    "drafts = drafts.sort_index()\n",
    "drafts"
   ]
  },
  {
   "cell_type": "code",
   "execution_count": 9,
   "metadata": {},
   "outputs": [
    {
     "data": {
      "text/plain": [
       "<matplotlib.axes._subplots.AxesSubplot at 0x29be95ee780>"
      ]
     },
     "execution_count": 9,
     "metadata": {},
     "output_type": "execute_result"
    },
    {
     "data": {
      "image/png": "[encoded data removed]",
      "text/plain": [
       "<Figure size 432x288 with 1 Axes>"
      ]
     },
     "metadata": {},
     "output_type": "display_data"
    }
   ],
   "source": [
    "drafts.plot(kind='bar')"
   ]
  },
  {
   "cell_type": "code",
   "execution_count": 10,
   "metadata": {},
   "outputs": [],
   "source": [
    "X_train, X_test, y_train, y_test = train_test_split(df_nba_draft['FG%'], df_nba_draft['DraftStatus'], \n",
    "                                                    random_state=1, test_size=0.2, stratify=df_nba_draft['DraftStatus'])"
   ]
  },
  {
   "cell_type": "code",
   "execution_count": 11,
   "metadata": {},
   "outputs": [
    {
     "name": "stdout",
     "output_type": "stream",
     "text": [
      "X training size:  (2608,)\n",
      "y training size:  (2608,)\n",
      "X test size:  (652,)\n",
      "y test size:  (652,)\n"
     ]
    }
   ],
   "source": [
    "print('X training size: ', X_train.shape)\n",
    "print('y training size: ', y_train.shape)\n",
    "print('X test size: ', X_test.shape)\n",
    "print('y test size: ', y_test.shape)"
   ]
  },
  {
   "cell_type": "code",
   "execution_count": 12,
   "metadata": {},
   "outputs": [
    {
     "name": "stdout",
     "output_type": "stream",
     "text": [
      "Size of training dtm:  (2608, 452)\n"
     ]
    }
   ],
   "source": [
    "vect = CountVectorizer(max_features=1000)\n",
    "X_train_vect = vect.fit(X_train, y_train)\n",
    "X_train_dtm = X_train_vect.transform(X_train)\n",
    "print(\"Size of training dtm: \", X_train_dtm.shape)"
   ]
  },
  {
   "cell_type": "code",
   "execution_count": 13,
   "metadata": {},
   "outputs": [
    {
     "name": "stdout",
     "output_type": "stream",
     "text": [
      "Size of test dtm:  (652, 452)\n"
     ]
    }
   ],
   "source": [
    "X_test_dtm = X_train_vect.transform(X_test)\n",
    "\n",
    "print(\"Size of test dtm: \", X_test_dtm.shape)"
   ]
  },
  {
   "cell_type": "code",
   "execution_count": 14,
   "metadata": {},
   "outputs": [],
   "source": [
    "parameters_mnb = {'alpha': (0.001, 0.01, 0.1, 1.0, 10.0, 100.0),\n",
    "                 'fit_prior': (True, False)}"
   ]
  },
  {
   "cell_type": "code",
   "execution_count": 15,
   "metadata": {},
   "outputs": [],
   "source": [
    "mnb = MultinomialNB()"
   ]
  },
  {
   "cell_type": "code",
   "execution_count": 16,
   "metadata": {},
   "outputs": [],
   "source": [
    "gs_mnb = GridSearchCV(mnb, parameters_mnb, n_jobs=-1)\n"
   ]
  },
  {
   "cell_type": "code",
   "execution_count": 17,
   "metadata": {},
   "outputs": [
    {
     "name": "stdout",
     "output_type": "stream",
     "text": [
      "Grid Search for MultinomialNB\n",
      "Accuracy:  0.790260736196319\n",
      "alpha:  1.0\n",
      "fit_prior:  True\n"
     ]
    }
   ],
   "source": [
    "gs_mnb = gs_mnb.fit(X_train_dtm, y_train)\n",
    "\n",
    "print(\"Grid Search for MultinomialNB\")\n",
    "print(\"Accuracy: \", gs_mnb.best_score_)\n",
    "print(\"alpha: \", gs_mnb.best_params_['alpha'])\n",
    "print(\"fit_prior: \", gs_mnb.best_params_['fit_prior'])"
   ]
  },
  {
   "cell_type": "code",
   "execution_count": 19,
   "metadata": {},
   "outputs": [
    {
     "name": "stdout",
     "output_type": "stream",
     "text": [
      "Multinomial Naive Bayes: \n",
      "[[ 36 113]\n",
      " [ 30 473]]\n",
      "             precision    recall  f1-score   support\n",
      "\n",
      "    Drafted       0.55      0.24      0.33       149\n",
      "  Undrafted       0.81      0.94      0.87       503\n",
      "\n",
      "avg / total       0.75      0.78      0.75       652\n",
      "\n"
     ]
    }
   ],
   "source": [
    "print(\"Multinomial Naive Bayes: \")\n",
    "\n",
    "gs_mnb_test_predictions = gs_mnb.predict(X_test_dtm)\n",
    "\n",
    "print(metrics.confusion_matrix(y_test, gs_mnb_test_predictions))\n",
    "\n",
    "gs_y_pred_test = gs_mnb.predict_proba(X_test_dtm)[:, 1]\n",
    "\n",
    "print(metrics.classification_report(y_test, gs_mnb_test_predictions,target_names=[\"Drafted\", \"Undrafted\"]))"
   ]
  },
  {
   "cell_type": "code",
   "execution_count": 20,
   "metadata": {},
   "outputs": [
    {
     "name": "stdout",
     "output_type": "stream",
     "text": [
      "Compare Target Class Label Counts to Classification Report\n",
      "0: Drafted, 1: Undrafted\n",
      "\n",
      "Drafted      149\n",
      "Undrafted    503\n",
      "Name: DraftStatus, dtype: int64\n"
     ]
    }
   ],
   "source": [
    "print(\"Compare Target Class Label Counts to Classification Report\")\n",
    "print(\"0: Drafted, 1: Undrafted\\n\")\n",
    "print(y_test.value_counts(ascending=True))"
   ]
  },
  {
   "cell_type": "code",
   "execution_count": 22,
   "metadata": {},
   "outputs": [
    {
     "data": {
      "text/html": [
       "<div>\n",
       "<style scoped>\n",
       "    .dataframe tbody tr th:only-of-type {\n",
       "        vertical-align: middle;\n",
       "    }\n",
       "\n",
       "    .dataframe tbody tr th {\n",
       "        vertical-align: top;\n",
       "    }\n",
       "\n",
       "    .dataframe thead th {\n",
       "        text-align: right;\n",
       "    }\n",
       "</style>\n",
       "<table border=\"1\" class=\"dataframe\">\n",
       "  <thead>\n",
       "    <tr style=\"text-align: right;\">\n",
       "      <th></th>\n",
       "      <th>Prediction</th>\n",
       "      <th>Actual</th>\n",
       "    </tr>\n",
       "  </thead>\n",
       "  <tbody>\n",
       "    <tr>\n",
       "      <th>1972</th>\n",
       "      <td>Undrafted</td>\n",
       "      <td>Undrafted</td>\n",
       "    </tr>\n",
       "    <tr>\n",
       "      <th>1483</th>\n",
       "      <td>Undrafted</td>\n",
       "      <td>Undrafted</td>\n",
       "    </tr>\n",
       "    <tr>\n",
       "      <th>899</th>\n",
       "      <td>Undrafted</td>\n",
       "      <td>Undrafted</td>\n",
       "    </tr>\n",
       "    <tr>\n",
       "      <th>2300</th>\n",
       "      <td>Undrafted</td>\n",
       "      <td>Undrafted</td>\n",
       "    </tr>\n",
       "    <tr>\n",
       "      <th>980</th>\n",
       "      <td>Undrafted</td>\n",
       "      <td>Undrafted</td>\n",
       "    </tr>\n",
       "    <tr>\n",
       "      <th>96</th>\n",
       "      <td>Drafted</td>\n",
       "      <td>Drafted</td>\n",
       "    </tr>\n",
       "    <tr>\n",
       "      <th>2310</th>\n",
       "      <td>Undrafted</td>\n",
       "      <td>Undrafted</td>\n",
       "    </tr>\n",
       "    <tr>\n",
       "      <th>990</th>\n",
       "      <td>Undrafted</td>\n",
       "      <td>Undrafted</td>\n",
       "    </tr>\n",
       "    <tr>\n",
       "      <th>1717</th>\n",
       "      <td>Drafted</td>\n",
       "      <td>Undrafted</td>\n",
       "    </tr>\n",
       "    <tr>\n",
       "      <th>2963</th>\n",
       "      <td>Undrafted</td>\n",
       "      <td>Undrafted</td>\n",
       "    </tr>\n",
       "    <tr>\n",
       "      <th>840</th>\n",
       "      <td>Undrafted</td>\n",
       "      <td>Undrafted</td>\n",
       "    </tr>\n",
       "    <tr>\n",
       "      <th>1999</th>\n",
       "      <td>Undrafted</td>\n",
       "      <td>Undrafted</td>\n",
       "    </tr>\n",
       "    <tr>\n",
       "      <th>71</th>\n",
       "      <td>Undrafted</td>\n",
       "      <td>Drafted</td>\n",
       "    </tr>\n",
       "    <tr>\n",
       "      <th>2939</th>\n",
       "      <td>Undrafted</td>\n",
       "      <td>Undrafted</td>\n",
       "    </tr>\n",
       "    <tr>\n",
       "      <th>471</th>\n",
       "      <td>Undrafted</td>\n",
       "      <td>Drafted</td>\n",
       "    </tr>\n",
       "    <tr>\n",
       "      <th>2286</th>\n",
       "      <td>Undrafted</td>\n",
       "      <td>Undrafted</td>\n",
       "    </tr>\n",
       "    <tr>\n",
       "      <th>2578</th>\n",
       "      <td>Undrafted</td>\n",
       "      <td>Undrafted</td>\n",
       "    </tr>\n",
       "    <tr>\n",
       "      <th>401</th>\n",
       "      <td>Undrafted</td>\n",
       "      <td>Drafted</td>\n",
       "    </tr>\n",
       "    <tr>\n",
       "      <th>716</th>\n",
       "      <td>Undrafted</td>\n",
       "      <td>Drafted</td>\n",
       "    </tr>\n",
       "    <tr>\n",
       "      <th>2161</th>\n",
       "      <td>Undrafted</td>\n",
       "      <td>Undrafted</td>\n",
       "    </tr>\n",
       "    <tr>\n",
       "      <th>1746</th>\n",
       "      <td>Undrafted</td>\n",
       "      <td>Undrafted</td>\n",
       "    </tr>\n",
       "    <tr>\n",
       "      <th>2507</th>\n",
       "      <td>Undrafted</td>\n",
       "      <td>Undrafted</td>\n",
       "    </tr>\n",
       "    <tr>\n",
       "      <th>336</th>\n",
       "      <td>Undrafted</td>\n",
       "      <td>Drafted</td>\n",
       "    </tr>\n",
       "    <tr>\n",
       "      <th>3155</th>\n",
       "      <td>Undrafted</td>\n",
       "      <td>Undrafted</td>\n",
       "    </tr>\n",
       "    <tr>\n",
       "      <th>1665</th>\n",
       "      <td>Undrafted</td>\n",
       "      <td>Undrafted</td>\n",
       "    </tr>\n",
       "    <tr>\n",
       "      <th>2111</th>\n",
       "      <td>Undrafted</td>\n",
       "      <td>Undrafted</td>\n",
       "    </tr>\n",
       "    <tr>\n",
       "      <th>1707</th>\n",
       "      <td>Undrafted</td>\n",
       "      <td>Undrafted</td>\n",
       "    </tr>\n",
       "    <tr>\n",
       "      <th>1465</th>\n",
       "      <td>Undrafted</td>\n",
       "      <td>Undrafted</td>\n",
       "    </tr>\n",
       "    <tr>\n",
       "      <th>2717</th>\n",
       "      <td>Undrafted</td>\n",
       "      <td>Undrafted</td>\n",
       "    </tr>\n",
       "    <tr>\n",
       "      <th>2089</th>\n",
       "      <td>Undrafted</td>\n",
       "      <td>Undrafted</td>\n",
       "    </tr>\n",
       "    <tr>\n",
       "      <th>...</th>\n",
       "      <td>...</td>\n",
       "      <td>...</td>\n",
       "    </tr>\n",
       "    <tr>\n",
       "      <th>768</th>\n",
       "      <td>Drafted</td>\n",
       "      <td>Undrafted</td>\n",
       "    </tr>\n",
       "    <tr>\n",
       "      <th>276</th>\n",
       "      <td>Undrafted</td>\n",
       "      <td>Drafted</td>\n",
       "    </tr>\n",
       "    <tr>\n",
       "      <th>1063</th>\n",
       "      <td>Undrafted</td>\n",
       "      <td>Undrafted</td>\n",
       "    </tr>\n",
       "    <tr>\n",
       "      <th>390</th>\n",
       "      <td>Undrafted</td>\n",
       "      <td>Drafted</td>\n",
       "    </tr>\n",
       "    <tr>\n",
       "      <th>332</th>\n",
       "      <td>Undrafted</td>\n",
       "      <td>Drafted</td>\n",
       "    </tr>\n",
       "    <tr>\n",
       "      <th>1502</th>\n",
       "      <td>Undrafted</td>\n",
       "      <td>Undrafted</td>\n",
       "    </tr>\n",
       "    <tr>\n",
       "      <th>431</th>\n",
       "      <td>Undrafted</td>\n",
       "      <td>Drafted</td>\n",
       "    </tr>\n",
       "    <tr>\n",
       "      <th>774</th>\n",
       "      <td>Undrafted</td>\n",
       "      <td>Undrafted</td>\n",
       "    </tr>\n",
       "    <tr>\n",
       "      <th>1810</th>\n",
       "      <td>Undrafted</td>\n",
       "      <td>Undrafted</td>\n",
       "    </tr>\n",
       "    <tr>\n",
       "      <th>1147</th>\n",
       "      <td>Undrafted</td>\n",
       "      <td>Undrafted</td>\n",
       "    </tr>\n",
       "    <tr>\n",
       "      <th>606</th>\n",
       "      <td>Undrafted</td>\n",
       "      <td>Drafted</td>\n",
       "    </tr>\n",
       "    <tr>\n",
       "      <th>2787</th>\n",
       "      <td>Undrafted</td>\n",
       "      <td>Undrafted</td>\n",
       "    </tr>\n",
       "    <tr>\n",
       "      <th>2056</th>\n",
       "      <td>Undrafted</td>\n",
       "      <td>Undrafted</td>\n",
       "    </tr>\n",
       "    <tr>\n",
       "      <th>2611</th>\n",
       "      <td>Undrafted</td>\n",
       "      <td>Undrafted</td>\n",
       "    </tr>\n",
       "    <tr>\n",
       "      <th>2159</th>\n",
       "      <td>Undrafted</td>\n",
       "      <td>Undrafted</td>\n",
       "    </tr>\n",
       "    <tr>\n",
       "      <th>1462</th>\n",
       "      <td>Undrafted</td>\n",
       "      <td>Undrafted</td>\n",
       "    </tr>\n",
       "    <tr>\n",
       "      <th>604</th>\n",
       "      <td>Undrafted</td>\n",
       "      <td>Drafted</td>\n",
       "    </tr>\n",
       "    <tr>\n",
       "      <th>1497</th>\n",
       "      <td>Undrafted</td>\n",
       "      <td>Undrafted</td>\n",
       "    </tr>\n",
       "    <tr>\n",
       "      <th>20</th>\n",
       "      <td>Drafted</td>\n",
       "      <td>Drafted</td>\n",
       "    </tr>\n",
       "    <tr>\n",
       "      <th>1038</th>\n",
       "      <td>Undrafted</td>\n",
       "      <td>Undrafted</td>\n",
       "    </tr>\n",
       "    <tr>\n",
       "      <th>2564</th>\n",
       "      <td>Undrafted</td>\n",
       "      <td>Undrafted</td>\n",
       "    </tr>\n",
       "    <tr>\n",
       "      <th>2343</th>\n",
       "      <td>Undrafted</td>\n",
       "      <td>Undrafted</td>\n",
       "    </tr>\n",
       "    <tr>\n",
       "      <th>918</th>\n",
       "      <td>Undrafted</td>\n",
       "      <td>Undrafted</td>\n",
       "    </tr>\n",
       "    <tr>\n",
       "      <th>2543</th>\n",
       "      <td>Undrafted</td>\n",
       "      <td>Undrafted</td>\n",
       "    </tr>\n",
       "    <tr>\n",
       "      <th>1519</th>\n",
       "      <td>Undrafted</td>\n",
       "      <td>Undrafted</td>\n",
       "    </tr>\n",
       "    <tr>\n",
       "      <th>405</th>\n",
       "      <td>Undrafted</td>\n",
       "      <td>Drafted</td>\n",
       "    </tr>\n",
       "    <tr>\n",
       "      <th>1678</th>\n",
       "      <td>Undrafted</td>\n",
       "      <td>Undrafted</td>\n",
       "    </tr>\n",
       "    <tr>\n",
       "      <th>2136</th>\n",
       "      <td>Undrafted</td>\n",
       "      <td>Undrafted</td>\n",
       "    </tr>\n",
       "    <tr>\n",
       "      <th>1901</th>\n",
       "      <td>Undrafted</td>\n",
       "      <td>Undrafted</td>\n",
       "    </tr>\n",
       "    <tr>\n",
       "      <th>1192</th>\n",
       "      <td>Undrafted</td>\n",
       "      <td>Undrafted</td>\n",
       "    </tr>\n",
       "  </tbody>\n",
       "</table>\n",
       "<p>652 rows × 2 columns</p>\n",
       "</div>"
      ],
      "text/plain": [
       "     Prediction     Actual\n",
       "1972  Undrafted  Undrafted\n",
       "1483  Undrafted  Undrafted\n",
       "899   Undrafted  Undrafted\n",
       "2300  Undrafted  Undrafted\n",
       "980   Undrafted  Undrafted\n",
       "96      Drafted    Drafted\n",
       "2310  Undrafted  Undrafted\n",
       "990   Undrafted  Undrafted\n",
       "1717    Drafted  Undrafted\n",
       "2963  Undrafted  Undrafted\n",
       "840   Undrafted  Undrafted\n",
       "1999  Undrafted  Undrafted\n",
       "71    Undrafted    Drafted\n",
       "2939  Undrafted  Undrafted\n",
       "471   Undrafted    Drafted\n",
       "2286  Undrafted  Undrafted\n",
       "2578  Undrafted  Undrafted\n",
       "401   Undrafted    Drafted\n",
       "716   Undrafted    Drafted\n",
       "2161  Undrafted  Undrafted\n",
       "1746  Undrafted  Undrafted\n",
       "2507  Undrafted  Undrafted\n",
       "336   Undrafted    Drafted\n",
       "3155  Undrafted  Undrafted\n",
       "1665  Undrafted  Undrafted\n",
       "2111  Undrafted  Undrafted\n",
       "1707  Undrafted  Undrafted\n",
       "1465  Undrafted  Undrafted\n",
       "2717  Undrafted  Undrafted\n",
       "2089  Undrafted  Undrafted\n",
       "...         ...        ...\n",
       "768     Drafted  Undrafted\n",
       "276   Undrafted    Drafted\n",
       "1063  Undrafted  Undrafted\n",
       "390   Undrafted    Drafted\n",
       "332   Undrafted    Drafted\n",
       "1502  Undrafted  Undrafted\n",
       "431   Undrafted    Drafted\n",
       "774   Undrafted  Undrafted\n",
       "1810  Undrafted  Undrafted\n",
       "1147  Undrafted  Undrafted\n",
       "606   Undrafted    Drafted\n",
       "2787  Undrafted  Undrafted\n",
       "2056  Undrafted  Undrafted\n",
       "2611  Undrafted  Undrafted\n",
       "2159  Undrafted  Undrafted\n",
       "1462  Undrafted  Undrafted\n",
       "604   Undrafted    Drafted\n",
       "1497  Undrafted  Undrafted\n",
       "20      Drafted    Drafted\n",
       "1038  Undrafted  Undrafted\n",
       "2564  Undrafted  Undrafted\n",
       "2343  Undrafted  Undrafted\n",
       "918   Undrafted  Undrafted\n",
       "2543  Undrafted  Undrafted\n",
       "1519  Undrafted  Undrafted\n",
       "405   Undrafted    Drafted\n",
       "1678  Undrafted  Undrafted\n",
       "2136  Undrafted  Undrafted\n",
       "1901  Undrafted  Undrafted\n",
       "1192  Undrafted  Undrafted\n",
       "\n",
       "[652 rows x 2 columns]"
      ]
     },
     "execution_count": 22,
     "metadata": {},
     "output_type": "execute_result"
    }
   ],
   "source": [
    "predictions = gs_mnb.predict(X_test_dtm)\n",
    "output = pd.DataFrame({\"Prediction\": predictions, \"Actual\": y_test})\n",
    "output"
   ]
  },
  {
   "cell_type": "code",
   "execution_count": 27,
   "metadata": {},
   "outputs": [],
   "source": [
    "output.to_csv(\"nboutput.csv\", index=False, encoding='utf-8')\n"
   ]
  },
  {
   "cell_type": "code",
   "execution_count": null,
   "metadata": {},
   "outputs": [],
   "source": []
  }
 ],
 "metadata": {
  "kernelspec": {
   "display_name": "Python 3",
   "language": "python",
   "name": "python3"
  },
  "language_info": {
   "codemirror_mode": {
    "name": "ipython",
    "version": 3
   },
   "file_extension": ".py",
   "mimetype": "text/x-python",
   "name": "python",
   "nbconvert_exporter": "python",
   "pygments_lexer": "ipython3",
   "version": "3.6.5"
  }
 },
 "nbformat": 4,
 "nbformat_minor": 2
}
